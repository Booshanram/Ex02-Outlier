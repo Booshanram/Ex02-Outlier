{
  "nbformat": 4,
  "nbformat_minor": 0,
  "metadata": {
    "colab": {
      "provenance": []
    },
    "kernelspec": {
      "name": "python3",
      "display_name": "Python 3"
    },
    "language_info": {
      "name": "python"
    }
  },
  "cells": [
    {
      "cell_type": "code",
      "execution_count": null,
      "metadata": {
        "colab": {
          "base_uri": "https://localhost:8080/",
          "height": 548
        },
        "id": "1Yf0VP81mSLR",
        "outputId": "597ff3a0-a6b4-4209-c4b7-4973b763bdca"
      },
      "outputs": [
        {
          "output_type": "stream",
          "name": "stdout",
          "text": [
            "<class 'pandas.core.frame.DataFrame'>\n",
            "RangeIndex: 13200 entries, 0 to 13199\n",
            "Data columns (total 7 columns):\n",
            " #   Column          Non-Null Count  Dtype  \n",
            "---  ------          --------------  -----  \n",
            " 0   location        13200 non-null  object \n",
            " 1   size            13200 non-null  object \n",
            " 2   total_sqft      13200 non-null  float64\n",
            " 3   bath            13200 non-null  float64\n",
            " 4   price           13200 non-null  float64\n",
            " 5   bhk             13200 non-null  int64  \n",
            " 6   price_per_sqft  13200 non-null  int64  \n",
            "dtypes: float64(3), int64(2), object(2)\n",
            "memory usage: 722.0+ KB\n",
            "First Quantile = 4734.65 Second quantile = 6363.0\n"
          ]
        },
        {
          "output_type": "display_data",
          "data": {
            "text/plain": [
              "<Figure size 432x288 with 1 Axes>"
            ],
            "image/png": "[encoded data removed]"
          },
          "metadata": {
            "needs_background": "light"
          }
        }
      ],
      "source": [
        "import pandas as ps\n",
        "import numpy as np\n",
        "import seaborn as sns\n",
        "\n",
        "df=ps.read_csv(\"bhp.csv\")\n",
        "df\n",
        "\n",
        "df.head()\n",
        "df.describe()\n",
        "df.info()\n",
        "df.isnull().sum()\n",
        "df.shape\n",
        "\n",
        "sns.boxplot(x=\"price_per_sqft\",data=df)\n",
        "\n",
        "q1=df['price_per_sqft'].quantile(0.35)\n",
        "q3=df['price_per_sqft'].quantile(0.65)\n",
        "print(\"First Quantile =\",q1,\"Second quantile =\",q3)\n",
        "\n",
        "IQR=q3-q1 #INTERQUARTILE RANGE\n",
        "ul =q3+0.5*IQR\n",
        "ll =q1-1.5*IQR\n"
      ]
    },
    {
      "cell_type": "code",
      "source": [],
      "metadata": {
        "id": "zn4cyla9o5ko"
      },
      "execution_count": null,
      "outputs": []
    },
    {
      "cell_type": "code",
      "source": [
        "df1=df[((df['price_per_sqft']<=l1)&(df['price_per_sqft']>u1))]\n",
        "df1\n",
        "\n",
        "df1.shape\n",
        "\n",
        "sns.boxplot(x='price_per_sqft',data=df1)\n",
        "\n",
        "from scipy import stats\n",
        "z=np.abs(stats.zscore(df['price_per_sqft']))\n",
        "df2=df[(z<3)]\n",
        "df2\n",
        "\n",
        "print(df2.shape)\n",
        "\n",
        "sns.boxplot(x='price_per_sqft',data=df2)\n",
        "\n",
        "df3=ps.read_csv('height_weight.csv')\n",
        "df3"
      ],
      "metadata": {
        "colab": {
          "base_uri": "https://localhost:8080/",
          "height": 241
        },
        "id": "7oKAEEJZo5nT",
        "outputId": "24d3bd56-3442-48d8-aee6-a0a4d4ca4e1b"
      },
      "execution_count": null,
      "outputs": [
        {
          "output_type": "error",
          "ename": "NameError",
          "evalue": "ignored",
          "traceback": [
            "\u001b[0;31m---------------------------------------------------------------------------\u001b[0m",
            "\u001b[0;31mNameError\u001b[0m                                 Traceback (most recent call last)",
            "\u001b[0;32m<ipython-input-5-bb6f62753df3>\u001b[0m in \u001b[0;36m<module>\u001b[0;34m\u001b[0m\n\u001b[0;32m----> 1\u001b[0;31m \u001b[0mdf1\u001b[0m\u001b[0;34m=\u001b[0m\u001b[0mdf\u001b[0m\u001b[0;34m[\u001b[0m\u001b[0;34m(\u001b[0m\u001b[0;34m(\u001b[0m\u001b[0mdf\u001b[0m\u001b[0;34m[\u001b[0m\u001b[0;34m'price_per_sqft'\u001b[0m\u001b[0;34m]\u001b[0m\u001b[0;34m<=\u001b[0m\u001b[0ml1\u001b[0m\u001b[0;34m)\u001b[0m\u001b[0;34m&\u001b[0m\u001b[0;34m(\u001b[0m\u001b[0mdf\u001b[0m\u001b[0;34m[\u001b[0m\u001b[0;34m'price_per_sqft'\u001b[0m\u001b[0;34m]\u001b[0m\u001b[0;34m>\u001b[0m\u001b[0mu1\u001b[0m\u001b[0;34m)\u001b[0m\u001b[0;34m)\u001b[0m\u001b[0;34m]\u001b[0m\u001b[0;34m\u001b[0m\u001b[0;34m\u001b[0m\u001b[0m\n\u001b[0m\u001b[1;32m      2\u001b[0m \u001b[0mdf1\u001b[0m\u001b[0;34m\u001b[0m\u001b[0;34m\u001b[0m\u001b[0m\n\u001b[1;32m      3\u001b[0m \u001b[0;34m\u001b[0m\u001b[0m\n\u001b[1;32m      4\u001b[0m \u001b[0mdf1\u001b[0m\u001b[0;34m.\u001b[0m\u001b[0mshape\u001b[0m\u001b[0;34m\u001b[0m\u001b[0;34m\u001b[0m\u001b[0m\n\u001b[1;32m      5\u001b[0m \u001b[0;34m\u001b[0m\u001b[0m\n",
            "\u001b[0;31mNameError\u001b[0m: name 'l1' is not defined"
          ]
        }
      ]
    }
  ]
}